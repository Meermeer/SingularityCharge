{
 "cells": [
  {
   "attachments": {},
   "cell_type": "markdown",
   "metadata": {},
   "source": [
    "### MacroMicro 사이트에 나온 데이터들을 크롤링 하는 코드"
   ]
  },
  {
   "cell_type": "code",
   "execution_count": 1,
   "metadata": {},
   "outputs": [],
   "source": [
    "# 필요한 라이브러리들을 로드하자\n",
    "import pandas as pd\n",
    "import numpy as np\n",
    "from bs4 import BeautifulSoup as bs\n",
    "from selenium.webdriver.common.by import By\n",
    "from selenium.webdriver.common.keys import Keys\n",
    "\n",
    "from selenium import webdriver\n",
    "from selenium.webdriver.support import expected_conditions as EC\n",
    "from selenium.webdriver.common.action_chains import ActionChains\n",
    "from selenium.webdriver.support.ui import WebDriverWait\n",
    "import undetected_chromedriver as uc\n",
    "\n",
    "# from selenium.webdriver.chrome.service import Service\n",
    "# from selenium.webdriver.chrome.options import Options\n",
    "# from webdriver_manager.chrome import ChromeDriverManager"
   ]
  },
  {
   "attachments": {},
   "cell_type": "markdown",
   "metadata": {},
   "source": [
    "#### MacroMicro 사이트에서 데이터들을 크롤링 하려면 웹드라이버에서 구글 계정으로 로그인 하는게 필요함"
   ]
  },
  {
   "cell_type": "code",
   "execution_count": 2,
   "metadata": {},
   "outputs": [],
   "source": [
    "# 크롬 웹드라이버를 실행해서 로그인하는 과정을 함수로 나타낸거\n",
    "\n",
    "def init_driver():\n",
    "    driver = uc.Chrome()\n",
    "    driver.get('https://velog.io')\n",
    "    return driver\n",
    "# 로그인 버튼을 눌러주고 로그인이 되서 다시 velog로 돌아올때까지 60초를 기다린다.\n",
    "def do_login(driver):\n",
    "    driver.find_element(By.XPATH,'//button[text()=\"로그인\"]').click()\n",
    "    WebDriverWait(driver, 60).until(\n",
    "        EC.presence_of_element_located(\n",
    "            (By.XPATH, '//button[text()=\"새 글 작성\"]')\n",
    "        )\n",
    "    )"
   ]
  },
  {
   "cell_type": "code",
   "execution_count": 3,
   "metadata": {},
   "outputs": [],
   "source": [
    "# main에서 실행하지 않으면 오류가 남\n",
    "# https://github.com/ultrafunkamsterdam/undetected-chromedriver/issues/486#issuecomment-1032009193 참조\n",
    "# 크롬 웹드라이버를 실행하고 구글 계정으로 로그인하자\n",
    "if  __name__  ==  \"__main__\" :\n",
    "    driver = init_driver()\n",
    "    do_login(driver)"
   ]
  },
  {
   "cell_type": "code",
   "execution_count": 4,
   "metadata": {},
   "outputs": [],
   "source": [
    "# G10 ESI 데이터가 있는 곳을 웹드라이버로 실행시켜보자\n",
    "url = 'https://en.macromicro.me/charts/45866/global-citi-surprise-index'  # 원하는 웹사이트 주소로 변경하세요\n",
    "driver.get(url)"
   ]
  },
  {
   "cell_type": "code",
   "execution_count": 5,
   "metadata": {},
   "outputs": [],
   "source": [
    "# 로그인 창이 뜰거임. 로그인 하기위한 첫 번째 과정\n",
    "element = WebDriverWait(driver, 10).until(\n",
    "    EC.presence_of_element_located((By.XPATH, '//a[@href=\"/login?next=%2Fcharts%2F45866%2Fglobal-citi-surprise-index\"]'))\n",
    ")\n",
    "\n",
    "# 찾은 요소를 클릭합니다.\n",
    "element.click()"
   ]
  },
  {
   "cell_type": "code",
   "execution_count": 6,
   "metadata": {},
   "outputs": [],
   "source": [
    "# 로그인 하기위한 두 번째 과정\n",
    "element2 = WebDriverWait(driver, 10).until(\n",
    "    EC.presence_of_element_located((By.XPATH, '//a[@href=\"/login/google\"]'))\n",
    ")\n",
    "\n",
    "# 찾은 요소를 클릭합니다.\n",
    "element2.click()"
   ]
  },
  {
   "cell_type": "code",
   "execution_count": 7,
   "metadata": {},
   "outputs": [],
   "source": [
    "# 우리가 관심 있는거는 G10 ESI뿐. 그래서 다른 것들은 나타나지 않도록 해두자\n",
    "_list = [0,2,3,4,5,6,7]\n",
    "for i in _list:\n",
    "    element = driver.find_element(By.CSS_SELECTOR, f'.highcharts-legend-item.highcharts-line-series.highcharts-color-undefined.highcharts-series-{i}')\n",
    "    element.click()"
   ]
  },
  {
   "cell_type": "code",
   "execution_count": 8,
   "metadata": {},
   "outputs": [],
   "source": [
    "# 마우스를 움직이고 클릭하기 위한 액션을 정의해줌\n",
    "actions = ActionChains(driver)"
   ]
  },
  {
   "attachments": {},
   "cell_type": "markdown",
   "metadata": {},
   "source": [
    "이상하게 커서 위치 초기 설정하는거랑 그 다음 코드는 두번 정도 실행해야 하더라...."
   ]
  },
  {
   "cell_type": "code",
   "execution_count": 14,
   "metadata": {},
   "outputs": [],
   "source": [
    "# 내가 수동으로 찾은 초기 커서 위치로서 적합한 커서 위치\n",
    "element3 = driver.find_element(By.CLASS_NAME, 'highcharts-axis-title')\n",
    "\n",
    "# 찾은 요소를 클릭합니다.\n",
    "actions.click(element3).perform()   # 우클릭 하고 싶으면 actions.context_click(element3).perform()"
   ]
  },
  {
   "cell_type": "code",
   "execution_count": 15,
   "metadata": {},
   "outputs": [],
   "source": [
    "# 첫 데이터가 나타나는 곳으로 커서를 이동후 클릭(내가 수동으로 찾음)\n",
    "actions.move_by_offset(60, 0).click().perform()"
   ]
  },
  {
   "attachments": {},
   "cell_type": "markdown",
   "metadata": {},
   "source": [
    "#### 참고로 커서 위치는 일일히 찍어먹어 보고 직접 알아내야 함"
   ]
  },
  {
   "attachments": {},
   "cell_type": "markdown",
   "metadata": {},
   "source": [
    "#### 여기 코드는 웹드라이버 창을 최대화 한 후 화면을 120%까지 확장했을때 기준으로 설정한거. 창의 크기가 달라지면 커서 위치가 조금씩 달라지더라"
   ]
  },
  {
   "attachments": {},
   "cell_type": "markdown",
   "metadata": {},
   "source": [
    "#### 웹드라이버 창의 크기에 따라, 그리고 각각의 컴퓨터의 크기에 따라 커서를 이동해야하는 정도가 달라지더라... 그래도 초기 커서 위치는 나름 고정 시켜놓긴 함"
   ]
  },
  {
   "cell_type": "code",
   "execution_count": 16,
   "metadata": {},
   "outputs": [
    {
     "name": "stdout",
     "output_type": "stream",
     "text": [
      "Wednesday, Jan  1, 2003\n",
      "-12.30\n",
      "Wednesday, Jan  1, 2003\n",
      "-12.30\n",
      "Wednesday, Jan  1, 2003\n",
      "-12.30\n",
      "Monday, Jan  6, 2003\n",
      "-6.30\n",
      "Wednesday, Jan 15, 2003\n",
      "1.50\n",
      "Thursday, Jan 23, 2003\n",
      "7.40\n",
      "Friday, Jan 31, 2003\n",
      "7.20\n",
      "Friday, Feb  7, 2003\n",
      "6.90\n",
      "Monday, Feb 17, 2003\n",
      "18.80\n",
      "Monday, Feb 24, 2003\n",
      "-0.20\n",
      "Tuesday, Mar  4, 2003\n",
      "5.30\n",
      "Wednesday, Mar 12, 2003\n",
      "1.50\n",
      "Thursday, Mar 20, 2003\n",
      "-5.80\n",
      "Friday, Mar 28, 2003\n",
      "-7.40\n",
      "Friday, Apr  4, 2003\n",
      "-21.60\n",
      "Monday, Apr 14, 2003\n",
      "-10.10\n",
      "Monday, Apr 21, 2003\n",
      "-18.00\n",
      "Tuesday, Apr 29, 2003\n",
      "-17.80\n",
      "Wednesday, May  7, 2003\n",
      "-27.30\n",
      "Thursday, May 15, 2003\n",
      "-43.40\n",
      "Friday, May 23, 2003\n",
      "-37.80\n",
      "Friday, May 30, 2003\n",
      "-26.80\n",
      "Monday, Jun  9, 2003\n",
      "-19.60\n",
      "Monday, Jun 16, 2003\n",
      "-16.00\n",
      "Tuesday, Jun 24, 2003\n",
      "-7.90\n",
      "Wednesday, Jul  2, 2003\n",
      "-1.20\n",
      "Thursday, Jul 10, 2003\n",
      "-4.20\n",
      "Friday, Jul 18, 2003\n",
      "11.90\n",
      "Friday, Jul 25, 2003\n",
      "11.00\n",
      "Monday, Aug  4, 2003\n",
      "14.80\n",
      "Monday, Aug 11, 2003\n",
      "25.80\n",
      "Tuesday, Aug 19, 2003\n",
      "38.40\n",
      "Wednesday, Aug 27, 2003\n",
      "42.50\n",
      "Thursday, Sep  4, 2003\n",
      "46.60\n",
      "Friday, Sep 12, 2003\n",
      "49.50\n",
      "Friday, Sep 19, 2003\n",
      "46.80\n",
      "Monday, Sep 29, 2003\n",
      "38.60\n",
      "Monday, Oct  6, 2003\n",
      "34.00\n",
      "Tuesday, Oct 14, 2003\n",
      "29.30\n",
      "Wednesday, Oct 22, 2003\n",
      "35.80\n",
      "Thursday, Oct 30, 2003\n",
      "55.90\n",
      "Friday, Nov  7, 2003\n",
      "49.60\n",
      "Friday, Nov 14, 2003\n",
      "40.50\n",
      "Monday, Nov 24, 2003\n",
      "36.00\n",
      "Monday, Dec  1, 2003\n",
      "64.80\n",
      "Tuesday, Dec  9, 2003\n",
      "63.80\n",
      "Wednesday, Dec 17, 2003\n",
      "63.90\n",
      "Thursday, Dec 25, 2003\n",
      "59.50\n",
      "Friday, Jan  2, 2004\n",
      "57.10\n",
      "Friday, Jan  9, 2004\n",
      "45.00\n",
      "Monday, Jan 19, 2004\n",
      "46.20\n",
      "Monday, Jan 26, 2004\n",
      "36.80\n",
      "Tuesday, Feb  3, 2004\n",
      "26.70\n",
      "Wednesday, Feb 11, 2004\n",
      "28.00\n",
      "Thursday, Feb 19, 2004\n",
      "16.50\n",
      "Friday, Feb 27, 2004\n",
      "3.60\n",
      "Friday, Mar  5, 2004\n",
      "-9.70\n",
      "Monday, Mar 15, 2004\n",
      "-25.80\n",
      "Monday, Mar 22, 2004\n",
      "-26.80\n",
      "Tuesday, Mar 30, 2004\n",
      "-16.70\n",
      "Wednesday, Apr  7, 2004\n",
      "-2.80\n",
      "Wednesday, Apr  7, 2004\n",
      "-2.80\n",
      "Thursday, Feb  6, 2003\n",
      "2.40\n",
      "Thursday, Feb  6, 2003\n",
      "2.40\n",
      "Wednesday, Mar 12, 2003\n",
      "1.50\n",
      "Friday, Feb  7, 2003\n",
      "6.90\n",
      "Friday, Feb  7, 2003\n",
      "6.90\n"
     ]
    },
    {
     "ename": "KeyboardInterrupt",
     "evalue": "",
     "output_type": "error",
     "traceback": [
      "\u001b[1;31m---------------------------------------------------------------------------\u001b[0m",
      "\u001b[1;31mKeyboardInterrupt\u001b[0m                         Traceback (most recent call last)",
      "Cell \u001b[1;32mIn[16], line 8\u001b[0m\n\u001b[0;32m      3\u001b[0m data_list \u001b[39m=\u001b[39m []\n\u001b[0;32m      5\u001b[0m \u001b[39mfor\u001b[39;00m i \u001b[39min\u001b[39;00m \u001b[39mrange\u001b[39m(\u001b[39m940\u001b[39m):\n\u001b[0;32m      6\u001b[0m \n\u001b[0;32m      7\u001b[0m     \u001b[39m# 커서를 한 칸씩 옮겨보자\u001b[39;00m\n\u001b[1;32m----> 8\u001b[0m     actions\u001b[39m.\u001b[39;49mmove_by_offset(\u001b[39m1\u001b[39;49m, \u001b[39m0\u001b[39;49m)\u001b[39m.\u001b[39;49mclick()\u001b[39m.\u001b[39;49mperform()\n\u001b[0;32m     10\u001b[0m     \u001b[39m# 페이지의 HTML을 가져옴\u001b[39;00m\n\u001b[0;32m     11\u001b[0m     html \u001b[39m=\u001b[39m driver\u001b[39m.\u001b[39mpage_source\n",
      "File \u001b[1;32mc:\\Users\\HangAri\\AppData\\Local\\Programs\\Python\\Python310\\lib\\site-packages\\selenium\\webdriver\\common\\action_chains.py:87\u001b[0m, in \u001b[0;36mActionChains.perform\u001b[1;34m(self)\u001b[0m\n\u001b[0;32m     85\u001b[0m \u001b[39mdef\u001b[39;00m \u001b[39mperform\u001b[39m(\u001b[39mself\u001b[39m):\n\u001b[0;32m     86\u001b[0m \u001b[39m    \u001b[39m\u001b[39m\"\"\"Performs all stored actions.\"\"\"\u001b[39;00m\n\u001b[1;32m---> 87\u001b[0m     \u001b[39mself\u001b[39;49m\u001b[39m.\u001b[39;49mw3c_actions\u001b[39m.\u001b[39;49mperform()\n",
      "File \u001b[1;32mc:\\Users\\HangAri\\AppData\\Local\\Programs\\Python\\Python310\\lib\\site-packages\\selenium\\webdriver\\common\\actions\\action_builder.py:91\u001b[0m, in \u001b[0;36mActionBuilder.perform\u001b[1;34m(self)\u001b[0m\n\u001b[0;32m     89\u001b[0m         enc[\u001b[39m\"\u001b[39m\u001b[39mactions\u001b[39m\u001b[39m\"\u001b[39m]\u001b[39m.\u001b[39mappend(encoded)\n\u001b[0;32m     90\u001b[0m         device\u001b[39m.\u001b[39mactions \u001b[39m=\u001b[39m []\n\u001b[1;32m---> 91\u001b[0m \u001b[39mself\u001b[39;49m\u001b[39m.\u001b[39;49mdriver\u001b[39m.\u001b[39;49mexecute(Command\u001b[39m.\u001b[39;49mW3C_ACTIONS, enc)\n",
      "File \u001b[1;32mc:\\Users\\HangAri\\AppData\\Local\\Programs\\Python\\Python310\\lib\\site-packages\\selenium\\webdriver\\remote\\webdriver.py:344\u001b[0m, in \u001b[0;36mWebDriver.execute\u001b[1;34m(self, driver_command, params)\u001b[0m\n\u001b[0;32m    341\u001b[0m     \u001b[39melif\u001b[39;00m \u001b[39m\"\u001b[39m\u001b[39msessionId\u001b[39m\u001b[39m\"\u001b[39m \u001b[39mnot\u001b[39;00m \u001b[39min\u001b[39;00m params:\n\u001b[0;32m    342\u001b[0m         params[\u001b[39m\"\u001b[39m\u001b[39msessionId\u001b[39m\u001b[39m\"\u001b[39m] \u001b[39m=\u001b[39m \u001b[39mself\u001b[39m\u001b[39m.\u001b[39msession_id\n\u001b[1;32m--> 344\u001b[0m response \u001b[39m=\u001b[39m \u001b[39mself\u001b[39;49m\u001b[39m.\u001b[39;49mcommand_executor\u001b[39m.\u001b[39;49mexecute(driver_command, params)\n\u001b[0;32m    345\u001b[0m \u001b[39mif\u001b[39;00m response:\n\u001b[0;32m    346\u001b[0m     \u001b[39mself\u001b[39m\u001b[39m.\u001b[39merror_handler\u001b[39m.\u001b[39mcheck_response(response)\n",
      "File \u001b[1;32mc:\\Users\\HangAri\\AppData\\Local\\Programs\\Python\\Python310\\lib\\site-packages\\selenium\\webdriver\\remote\\remote_connection.py:290\u001b[0m, in \u001b[0;36mRemoteConnection.execute\u001b[1;34m(self, command, params)\u001b[0m\n\u001b[0;32m    288\u001b[0m data \u001b[39m=\u001b[39m utils\u001b[39m.\u001b[39mdump_json(params)\n\u001b[0;32m    289\u001b[0m url \u001b[39m=\u001b[39m \u001b[39mf\u001b[39m\u001b[39m\"\u001b[39m\u001b[39m{\u001b[39;00m\u001b[39mself\u001b[39m\u001b[39m.\u001b[39m_url\u001b[39m}\u001b[39;00m\u001b[39m{\u001b[39;00mpath\u001b[39m}\u001b[39;00m\u001b[39m\"\u001b[39m\n\u001b[1;32m--> 290\u001b[0m \u001b[39mreturn\u001b[39;00m \u001b[39mself\u001b[39;49m\u001b[39m.\u001b[39;49m_request(command_info[\u001b[39m0\u001b[39;49m], url, body\u001b[39m=\u001b[39;49mdata)\n",
      "File \u001b[1;32mc:\\Users\\HangAri\\AppData\\Local\\Programs\\Python\\Python310\\lib\\site-packages\\selenium\\webdriver\\remote\\remote_connection.py:311\u001b[0m, in \u001b[0;36mRemoteConnection._request\u001b[1;34m(self, method, url, body)\u001b[0m\n\u001b[0;32m    308\u001b[0m     body \u001b[39m=\u001b[39m \u001b[39mNone\u001b[39;00m\n\u001b[0;32m    310\u001b[0m \u001b[39mif\u001b[39;00m \u001b[39mself\u001b[39m\u001b[39m.\u001b[39mkeep_alive:\n\u001b[1;32m--> 311\u001b[0m     response \u001b[39m=\u001b[39m \u001b[39mself\u001b[39;49m\u001b[39m.\u001b[39;49m_conn\u001b[39m.\u001b[39;49mrequest(method, url, body\u001b[39m=\u001b[39;49mbody, headers\u001b[39m=\u001b[39;49mheaders)\n\u001b[0;32m    312\u001b[0m     statuscode \u001b[39m=\u001b[39m response\u001b[39m.\u001b[39mstatus\n\u001b[0;32m    313\u001b[0m \u001b[39melse\u001b[39;00m:\n",
      "File \u001b[1;32mc:\\Users\\HangAri\\AppData\\Local\\Programs\\Python\\Python310\\lib\\site-packages\\urllib3\\request.py:78\u001b[0m, in \u001b[0;36mRequestMethods.request\u001b[1;34m(self, method, url, fields, headers, **urlopen_kw)\u001b[0m\n\u001b[0;32m     74\u001b[0m     \u001b[39mreturn\u001b[39;00m \u001b[39mself\u001b[39m\u001b[39m.\u001b[39mrequest_encode_url(\n\u001b[0;32m     75\u001b[0m         method, url, fields\u001b[39m=\u001b[39mfields, headers\u001b[39m=\u001b[39mheaders, \u001b[39m*\u001b[39m\u001b[39m*\u001b[39murlopen_kw\n\u001b[0;32m     76\u001b[0m     )\n\u001b[0;32m     77\u001b[0m \u001b[39melse\u001b[39;00m:\n\u001b[1;32m---> 78\u001b[0m     \u001b[39mreturn\u001b[39;00m \u001b[39mself\u001b[39m\u001b[39m.\u001b[39mrequest_encode_body(\n\u001b[0;32m     79\u001b[0m         method, url, fields\u001b[39m=\u001b[39mfields, headers\u001b[39m=\u001b[39mheaders, \u001b[39m*\u001b[39m\u001b[39m*\u001b[39murlopen_kw\n\u001b[0;32m     80\u001b[0m     )\n",
      "File \u001b[1;32mc:\\Users\\HangAri\\AppData\\Local\\Programs\\Python\\Python310\\lib\\site-packages\\urllib3\\request.py:170\u001b[0m, in \u001b[0;36mRequestMethods.request_encode_body\u001b[1;34m(self, method, url, fields, headers, encode_multipart, multipart_boundary, **urlopen_kw)\u001b[0m\n\u001b[0;32m    167\u001b[0m extra_kw[\u001b[39m\"\u001b[39m\u001b[39mheaders\u001b[39m\u001b[39m\"\u001b[39m]\u001b[39m.\u001b[39mupdate(headers)\n\u001b[0;32m    168\u001b[0m extra_kw\u001b[39m.\u001b[39mupdate(urlopen_kw)\n\u001b[1;32m--> 170\u001b[0m \u001b[39mreturn\u001b[39;00m \u001b[39mself\u001b[39m\u001b[39m.\u001b[39murlopen(method, url, \u001b[39m*\u001b[39m\u001b[39m*\u001b[39mextra_kw)\n",
      "File \u001b[1;32mc:\\Users\\HangAri\\AppData\\Local\\Programs\\Python\\Python310\\lib\\site-packages\\urllib3\\poolmanager.py:376\u001b[0m, in \u001b[0;36mPoolManager.urlopen\u001b[1;34m(self, method, url, redirect, **kw)\u001b[0m\n\u001b[0;32m    374\u001b[0m     response \u001b[39m=\u001b[39m conn\u001b[39m.\u001b[39murlopen(method, url, \u001b[39m*\u001b[39m\u001b[39m*\u001b[39mkw)\n\u001b[0;32m    375\u001b[0m \u001b[39melse\u001b[39;00m:\n\u001b[1;32m--> 376\u001b[0m     response \u001b[39m=\u001b[39m conn\u001b[39m.\u001b[39murlopen(method, u\u001b[39m.\u001b[39mrequest_uri, \u001b[39m*\u001b[39m\u001b[39m*\u001b[39mkw)\n\u001b[0;32m    378\u001b[0m redirect_location \u001b[39m=\u001b[39m redirect \u001b[39mand\u001b[39;00m response\u001b[39m.\u001b[39mget_redirect_location()\n\u001b[0;32m    379\u001b[0m \u001b[39mif\u001b[39;00m \u001b[39mnot\u001b[39;00m redirect_location:\n",
      "File \u001b[1;32mc:\\Users\\HangAri\\AppData\\Local\\Programs\\Python\\Python310\\lib\\site-packages\\urllib3\\connectionpool.py:714\u001b[0m, in \u001b[0;36mHTTPConnectionPool.urlopen\u001b[1;34m(self, method, url, body, headers, retries, redirect, assert_same_host, timeout, pool_timeout, release_conn, chunked, body_pos, **response_kw)\u001b[0m\n\u001b[0;32m    711\u001b[0m     \u001b[39mself\u001b[39m\u001b[39m.\u001b[39m_prepare_proxy(conn)\n\u001b[0;32m    713\u001b[0m \u001b[39m# Make the request on the httplib connection object.\u001b[39;00m\n\u001b[1;32m--> 714\u001b[0m httplib_response \u001b[39m=\u001b[39m \u001b[39mself\u001b[39;49m\u001b[39m.\u001b[39;49m_make_request(\n\u001b[0;32m    715\u001b[0m     conn,\n\u001b[0;32m    716\u001b[0m     method,\n\u001b[0;32m    717\u001b[0m     url,\n\u001b[0;32m    718\u001b[0m     timeout\u001b[39m=\u001b[39;49mtimeout_obj,\n\u001b[0;32m    719\u001b[0m     body\u001b[39m=\u001b[39;49mbody,\n\u001b[0;32m    720\u001b[0m     headers\u001b[39m=\u001b[39;49mheaders,\n\u001b[0;32m    721\u001b[0m     chunked\u001b[39m=\u001b[39;49mchunked,\n\u001b[0;32m    722\u001b[0m )\n\u001b[0;32m    724\u001b[0m \u001b[39m# If we're going to release the connection in ``finally:``, then\u001b[39;00m\n\u001b[0;32m    725\u001b[0m \u001b[39m# the response doesn't need to know about the connection. Otherwise\u001b[39;00m\n\u001b[0;32m    726\u001b[0m \u001b[39m# it will also try to release it and we'll have a double-release\u001b[39;00m\n\u001b[0;32m    727\u001b[0m \u001b[39m# mess.\u001b[39;00m\n\u001b[0;32m    728\u001b[0m response_conn \u001b[39m=\u001b[39m conn \u001b[39mif\u001b[39;00m \u001b[39mnot\u001b[39;00m release_conn \u001b[39melse\u001b[39;00m \u001b[39mNone\u001b[39;00m\n",
      "File \u001b[1;32mc:\\Users\\HangAri\\AppData\\Local\\Programs\\Python\\Python310\\lib\\site-packages\\urllib3\\connectionpool.py:466\u001b[0m, in \u001b[0;36mHTTPConnectionPool._make_request\u001b[1;34m(self, conn, method, url, timeout, chunked, **httplib_request_kw)\u001b[0m\n\u001b[0;32m    461\u001b[0m             httplib_response \u001b[39m=\u001b[39m conn\u001b[39m.\u001b[39mgetresponse()\n\u001b[0;32m    462\u001b[0m         \u001b[39mexcept\u001b[39;00m \u001b[39mBaseException\u001b[39;00m \u001b[39mas\u001b[39;00m e:\n\u001b[0;32m    463\u001b[0m             \u001b[39m# Remove the TypeError from the exception chain in\u001b[39;00m\n\u001b[0;32m    464\u001b[0m             \u001b[39m# Python 3 (including for exceptions like SystemExit).\u001b[39;00m\n\u001b[0;32m    465\u001b[0m             \u001b[39m# Otherwise it looks like a bug in the code.\u001b[39;00m\n\u001b[1;32m--> 466\u001b[0m             six\u001b[39m.\u001b[39;49mraise_from(e, \u001b[39mNone\u001b[39;49;00m)\n\u001b[0;32m    467\u001b[0m \u001b[39mexcept\u001b[39;00m (SocketTimeout, BaseSSLError, SocketError) \u001b[39mas\u001b[39;00m e:\n\u001b[0;32m    468\u001b[0m     \u001b[39mself\u001b[39m\u001b[39m.\u001b[39m_raise_timeout(err\u001b[39m=\u001b[39me, url\u001b[39m=\u001b[39murl, timeout_value\u001b[39m=\u001b[39mread_timeout)\n",
      "File \u001b[1;32m<string>:3\u001b[0m, in \u001b[0;36mraise_from\u001b[1;34m(value, from_value)\u001b[0m\n",
      "File \u001b[1;32mc:\\Users\\HangAri\\AppData\\Local\\Programs\\Python\\Python310\\lib\\site-packages\\urllib3\\connectionpool.py:461\u001b[0m, in \u001b[0;36mHTTPConnectionPool._make_request\u001b[1;34m(self, conn, method, url, timeout, chunked, **httplib_request_kw)\u001b[0m\n\u001b[0;32m    458\u001b[0m \u001b[39mexcept\u001b[39;00m \u001b[39mTypeError\u001b[39;00m:\n\u001b[0;32m    459\u001b[0m     \u001b[39m# Python 3\u001b[39;00m\n\u001b[0;32m    460\u001b[0m     \u001b[39mtry\u001b[39;00m:\n\u001b[1;32m--> 461\u001b[0m         httplib_response \u001b[39m=\u001b[39m conn\u001b[39m.\u001b[39;49mgetresponse()\n\u001b[0;32m    462\u001b[0m     \u001b[39mexcept\u001b[39;00m \u001b[39mBaseException\u001b[39;00m \u001b[39mas\u001b[39;00m e:\n\u001b[0;32m    463\u001b[0m         \u001b[39m# Remove the TypeError from the exception chain in\u001b[39;00m\n\u001b[0;32m    464\u001b[0m         \u001b[39m# Python 3 (including for exceptions like SystemExit).\u001b[39;00m\n\u001b[0;32m    465\u001b[0m         \u001b[39m# Otherwise it looks like a bug in the code.\u001b[39;00m\n\u001b[0;32m    466\u001b[0m         six\u001b[39m.\u001b[39mraise_from(e, \u001b[39mNone\u001b[39;00m)\n",
      "File \u001b[1;32mc:\\Users\\HangAri\\AppData\\Local\\Programs\\Python\\Python310\\lib\\http\\client.py:1374\u001b[0m, in \u001b[0;36mHTTPConnection.getresponse\u001b[1;34m(self)\u001b[0m\n\u001b[0;32m   1372\u001b[0m \u001b[39mtry\u001b[39;00m:\n\u001b[0;32m   1373\u001b[0m     \u001b[39mtry\u001b[39;00m:\n\u001b[1;32m-> 1374\u001b[0m         response\u001b[39m.\u001b[39;49mbegin()\n\u001b[0;32m   1375\u001b[0m     \u001b[39mexcept\u001b[39;00m \u001b[39mConnectionError\u001b[39;00m:\n\u001b[0;32m   1376\u001b[0m         \u001b[39mself\u001b[39m\u001b[39m.\u001b[39mclose()\n",
      "File \u001b[1;32mc:\\Users\\HangAri\\AppData\\Local\\Programs\\Python\\Python310\\lib\\http\\client.py:318\u001b[0m, in \u001b[0;36mHTTPResponse.begin\u001b[1;34m(self)\u001b[0m\n\u001b[0;32m    316\u001b[0m \u001b[39m# read until we get a non-100 response\u001b[39;00m\n\u001b[0;32m    317\u001b[0m \u001b[39mwhile\u001b[39;00m \u001b[39mTrue\u001b[39;00m:\n\u001b[1;32m--> 318\u001b[0m     version, status, reason \u001b[39m=\u001b[39m \u001b[39mself\u001b[39;49m\u001b[39m.\u001b[39;49m_read_status()\n\u001b[0;32m    319\u001b[0m     \u001b[39mif\u001b[39;00m status \u001b[39m!=\u001b[39m CONTINUE:\n\u001b[0;32m    320\u001b[0m         \u001b[39mbreak\u001b[39;00m\n",
      "File \u001b[1;32mc:\\Users\\HangAri\\AppData\\Local\\Programs\\Python\\Python310\\lib\\http\\client.py:279\u001b[0m, in \u001b[0;36mHTTPResponse._read_status\u001b[1;34m(self)\u001b[0m\n\u001b[0;32m    278\u001b[0m \u001b[39mdef\u001b[39;00m \u001b[39m_read_status\u001b[39m(\u001b[39mself\u001b[39m):\n\u001b[1;32m--> 279\u001b[0m     line \u001b[39m=\u001b[39m \u001b[39mstr\u001b[39m(\u001b[39mself\u001b[39;49m\u001b[39m.\u001b[39;49mfp\u001b[39m.\u001b[39;49mreadline(_MAXLINE \u001b[39m+\u001b[39;49m \u001b[39m1\u001b[39;49m), \u001b[39m\"\u001b[39m\u001b[39miso-8859-1\u001b[39m\u001b[39m\"\u001b[39m)\n\u001b[0;32m    280\u001b[0m     \u001b[39mif\u001b[39;00m \u001b[39mlen\u001b[39m(line) \u001b[39m>\u001b[39m _MAXLINE:\n\u001b[0;32m    281\u001b[0m         \u001b[39mraise\u001b[39;00m LineTooLong(\u001b[39m\"\u001b[39m\u001b[39mstatus line\u001b[39m\u001b[39m\"\u001b[39m)\n",
      "File \u001b[1;32mc:\\Users\\HangAri\\AppData\\Local\\Programs\\Python\\Python310\\lib\\socket.py:705\u001b[0m, in \u001b[0;36mSocketIO.readinto\u001b[1;34m(self, b)\u001b[0m\n\u001b[0;32m    703\u001b[0m \u001b[39mwhile\u001b[39;00m \u001b[39mTrue\u001b[39;00m:\n\u001b[0;32m    704\u001b[0m     \u001b[39mtry\u001b[39;00m:\n\u001b[1;32m--> 705\u001b[0m         \u001b[39mreturn\u001b[39;00m \u001b[39mself\u001b[39;49m\u001b[39m.\u001b[39;49m_sock\u001b[39m.\u001b[39;49mrecv_into(b)\n\u001b[0;32m    706\u001b[0m     \u001b[39mexcept\u001b[39;00m timeout:\n\u001b[0;32m    707\u001b[0m         \u001b[39mself\u001b[39m\u001b[39m.\u001b[39m_timeout_occurred \u001b[39m=\u001b[39m \u001b[39mTrue\u001b[39;00m\n",
      "\u001b[1;31mKeyboardInterrupt\u001b[0m: "
     ]
    }
   ],
   "source": [
    "# 커서를 하나씩 이동 시키면서 커서를 갖다 댈때만 뜨는 데이터 값들을 크롤링 해보자\n",
    "\n",
    "data_list = []\n",
    "\n",
    "for i in range(940):\n",
    "\n",
    "    # 커서를 한 칸씩 옮겨보자\n",
    "    actions.move_by_offset(1, 0).click().perform()\n",
    "\n",
    "    # 페이지의 HTML을 가져옴\n",
    "    html = driver.page_source\n",
    "    # BeautifulSoup 객체를 생성\n",
    "    soup = bs(html, 'html.parser')\n",
    "    # 클래스가 \"chart-wrapper\"인 요소를 찾아서 해당하는 것을 data에 저장\n",
    "    wrapper = soup.find('g', attrs={'class': 'highcharts-label highcharts-tooltip highcharts-color-undefined'})\n",
    "    data = wrapper.prettify()\n",
    "\n",
    "    # 데이터에서 요일, 월, 일, 연도 추출\n",
    "    date_start_index = data.find(\"<tspan style=\\\"font-size: 10px;\\\">\") + len(\"<tspan style=\\\"font-size: 10px;\\\">\")\n",
    "    date_end_index = data.find(\"</tspan>\")\n",
    "    date = data[date_start_index:date_end_index].strip()\n",
    "    # 날짜 잘 나오나 함 찍어보자\n",
    "    print(date)\n",
    "\n",
    "    # 데이터에서 G10 ESI 값을 추출\n",
    "    number_start_index = data.find(\"<tspan style=\\\"font-weight: bold;\\\">\") + len(\"<tspan style=\\\"font-weight: bold;\\\">\")\n",
    "    number_end_index = data.find(\"</tspan>\", number_start_index)\n",
    "    number = data[number_start_index:number_end_index].strip()\n",
    "    # ESI값 잘 나오나 함 찍어보자\n",
    "    print(number)\n",
    "\n",
    "    # 추출한 정보를 리스트에 형태로 하나씩 추가\n",
    "    data_list.append({'date': date, 'number': number})\n",
    "\n",
    "# 커서를 하나씩 이동 시켜서 하나씩 크롤링 하는 작업을 끝냈으면 해당 데이터를 데이터 프레임으로 저장\n",
    "df = pd.DataFrame(data_list)"
   ]
  },
  {
   "cell_type": "code",
   "execution_count": 23,
   "metadata": {},
   "outputs": [],
   "source": [
    "# 생성한 데이터 프레임에서 중복되는 값은 삭제\n",
    "df_droped = df.drop_duplicates(subset='date')\n",
    "\n",
    "# 그리고 중복되는 데이터를 제거한 완성된 데이터를 csv의 파일형태로 저장해둔다\n",
    "df_droped.to_csv('G10 ESI.csv', index=False)"
   ]
  },
  {
   "cell_type": "code",
   "execution_count": 12,
   "metadata": {},
   "outputs": [],
   "source": [
    "# viewport_width = driver.execute_script(\"return document.documentElement.clientWidth\")\n",
    "# viewport_height = driver.execute_script(\"return document.documentElement.clientHeight\")\n",
    "\n",
    "\n",
    "# # 9시 방향은 왼쪽 중앙이므로, x 좌표는 0이고 y 좌표는 뷰포트 높이의 절반입니다.\n",
    "# x = 0\n",
    "# y = viewport_height / 2"
   ]
  }
 ],
 "metadata": {
  "kernelspec": {
   "display_name": "Python 3",
   "language": "python",
   "name": "python3"
  },
  "language_info": {
   "codemirror_mode": {
    "name": "ipython",
    "version": 3
   },
   "file_extension": ".py",
   "mimetype": "text/x-python",
   "name": "python",
   "nbconvert_exporter": "python",
   "pygments_lexer": "ipython3",
   "version": "3.10.9"
  },
  "orig_nbformat": 4
 },
 "nbformat": 4,
 "nbformat_minor": 2
}
