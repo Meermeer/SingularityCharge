{
 "cells": [
  {
   "cell_type": "code",
   "execution_count": 8,
   "metadata": {},
   "outputs": [],
   "source": [
    "# 필요한 라이브러리들을 로드하자\n",
    "import pandas as pd\n",
    "import numpy as np\n",
    "from bs4 import BeautifulSoup as bs\n",
    "from selenium.webdriver.common.by import By\n",
    "from selenium.webdriver.common.keys import Keys\n",
    "\n",
    "from selenium import webdriver\n",
    "from selenium.webdriver.support import expected_conditions as EC\n",
    "from selenium.webdriver.common.action_chains import ActionChains\n",
    "from selenium.webdriver.support.ui import WebDriverWait\n",
    "import undetected_chromedriver as uc"
   ]
  },
  {
   "cell_type": "code",
   "execution_count": 22,
   "metadata": {},
   "outputs": [],
   "source": [
    "# 인베스팅닷컴 열기\n",
    "driver = uc.Chrome()\n",
    "url = 'https://kr.investing.com/economic-calendar/cpi-733'  # 원하는 웹사이트 주소로 변경하세요\n",
    "driver.get(url)\n",
    "\n",
    "actions = ActionChains(driver)"
   ]
  },
  {
   "cell_type": "code",
   "execution_count": 23,
   "metadata": {},
   "outputs": [],
   "source": [
    "# '더 보여주기' 버튼을 몇 번 클릭할건지 지정\n",
    "for i in range(80):\n",
    "    element = driver.find_element(By.CSS_SELECTOR, '.showMoreReplies.block')\n",
    "    actions.click(element).perform() "
   ]
  },
  {
   "cell_type": "code",
   "execution_count": 24,
   "metadata": {},
   "outputs": [],
   "source": [
    "### 인베스팅닷컴에 나온 정보를 크롤링\n",
    "\n",
    "html = driver.page_source\n",
    "# BeautifulSoup 객체를 생성\n",
    "soup = bs(html, 'html.parser')\n",
    "# 클래스가 \"chart-wrapper\"인 요소를 찾아서 해당하는 것을 data에 저장\n",
    "wrapper = soup.find('table', attrs={'class': 'genTbl openTbl ecHistoryTbl'})\n",
    "data = wrapper.prettify()"
   ]
  },
  {
   "cell_type": "code",
   "execution_count": 72,
   "metadata": {},
   "outputs": [],
   "source": [
    "# 날짜들을 뽑아오자\n",
    "dates = []\n",
    "for td in wrapper.find_all('td', {'class': 'left'}):\n",
    "    date = td.get_text(strip=True)  # 공백 제거\n",
    "    # date = date.replace(\"'\", '')  # 따옴표 제거\n",
    "    # date = date.strip()  # 추가적인 공백 제거\n",
    "    dates.append(date)\n",
    "\n",
    "dates_droped = dates[::2]\n",
    "# even_index_elements = your_list[::2]\n",
    "# odd_index_elements = your_list[1::2]"
   ]
  },
  {
   "cell_type": "code",
   "execution_count": 73,
   "metadata": {},
   "outputs": [],
   "source": [
    "# 날짜에 대응하는 값들을 뽑아오자\n",
    "values = []\n",
    "for span in wrapper.find_all('span', {'class': ['redFont', 'blackFont', 'greenFont']}):\n",
    "    value = span.get_text(strip=True)  # 공백 제거\n",
    "    values.append(value)"
   ]
  },
  {
   "cell_type": "code",
   "execution_count": 76,
   "metadata": {},
   "outputs": [],
   "source": [
    "# 뽑아온 날짜와 숫자 데이터를 활용하여 데이터 프레임을 생성하자\n",
    "df = pd.DataFrame({\n",
    "    'date': dates_droped,\n",
    "    'uscpi_yoy': values\n",
    "})"
   ]
  },
  {
   "cell_type": "code",
   "execution_count": 78,
   "metadata": {},
   "outputs": [],
   "source": [
    "# 인베스팅 닷컴에서 크롤링해온 데이터를 csv파일 형태로 저장하자\n",
    "df.to_csv('uscpi_yoy_lag.csv', encoding='cp949', index=False)"
   ]
  },
  {
   "cell_type": "code",
   "execution_count": 79,
   "metadata": {},
   "outputs": [
    {
     "data": {
      "text/html": [
       "<div>\n",
       "<style scoped>\n",
       "    .dataframe tbody tr th:only-of-type {\n",
       "        vertical-align: middle;\n",
       "    }\n",
       "\n",
       "    .dataframe tbody tr th {\n",
       "        vertical-align: top;\n",
       "    }\n",
       "\n",
       "    .dataframe thead th {\n",
       "        text-align: right;\n",
       "    }\n",
       "</style>\n",
       "<table border=\"1\" class=\"dataframe\">\n",
       "  <thead>\n",
       "    <tr style=\"text-align: right;\">\n",
       "      <th></th>\n",
       "      <th>date</th>\n",
       "      <th>uscpi_yoy</th>\n",
       "    </tr>\n",
       "  </thead>\n",
       "  <tbody>\n",
       "    <tr>\n",
       "      <th>0</th>\n",
       "      <td>2023년 06월 13일 (5월)</td>\n",
       "      <td>4.0%</td>\n",
       "    </tr>\n",
       "    <tr>\n",
       "      <th>1</th>\n",
       "      <td>2023년 05월 10일 (4월)</td>\n",
       "      <td>4.9%</td>\n",
       "    </tr>\n",
       "    <tr>\n",
       "      <th>2</th>\n",
       "      <td>2023년 04월 12일 (3월)</td>\n",
       "      <td>5.0%</td>\n",
       "    </tr>\n",
       "    <tr>\n",
       "      <th>3</th>\n",
       "      <td>2023년 03월 14일 (2월)</td>\n",
       "      <td>6.0%</td>\n",
       "    </tr>\n",
       "    <tr>\n",
       "      <th>4</th>\n",
       "      <td>2023년 02월 14일 (1월)</td>\n",
       "      <td>6.4%</td>\n",
       "    </tr>\n",
       "    <tr>\n",
       "      <th>...</th>\n",
       "      <td>...</td>\n",
       "      <td>...</td>\n",
       "    </tr>\n",
       "    <tr>\n",
       "      <th>253</th>\n",
       "      <td>2002년 05월 01일  (4월)</td>\n",
       "      <td>1.60%</td>\n",
       "    </tr>\n",
       "    <tr>\n",
       "      <th>254</th>\n",
       "      <td>2002년 04월 01일  (3월)</td>\n",
       "      <td>1.50%</td>\n",
       "    </tr>\n",
       "    <tr>\n",
       "      <th>255</th>\n",
       "      <td>2002년 03월 01일  (2월)</td>\n",
       "      <td>1.10%</td>\n",
       "    </tr>\n",
       "    <tr>\n",
       "      <th>256</th>\n",
       "      <td>2002년 02월 01일  (1월)</td>\n",
       "      <td>1.10%</td>\n",
       "    </tr>\n",
       "    <tr>\n",
       "      <th>257</th>\n",
       "      <td>2002년 01월 01일  (12월)</td>\n",
       "      <td>1.60%</td>\n",
       "    </tr>\n",
       "  </tbody>\n",
       "</table>\n",
       "<p>258 rows × 2 columns</p>\n",
       "</div>"
      ],
      "text/plain": [
       "                     date uscpi_yoy\n",
       "0      2023년 06월 13일 (5월)      4.0%\n",
       "1      2023년 05월 10일 (4월)      4.9%\n",
       "2      2023년 04월 12일 (3월)      5.0%\n",
       "3      2023년 03월 14일 (2월)      6.0%\n",
       "4      2023년 02월 14일 (1월)      6.4%\n",
       "..                    ...       ...\n",
       "253   2002년 05월 01일  (4월)     1.60%\n",
       "254   2002년 04월 01일  (3월)     1.50%\n",
       "255   2002년 03월 01일  (2월)     1.10%\n",
       "256   2002년 02월 01일  (1월)     1.10%\n",
       "257  2002년 01월 01일  (12월)     1.60%\n",
       "\n",
       "[258 rows x 2 columns]"
      ]
     },
     "execution_count": 79,
     "metadata": {},
     "output_type": "execute_result"
    }
   ],
   "source": [
    "pd.read_csv('uscpi_yoy_lag.csv', encoding='cp949')"
   ]
  },
  {
   "cell_type": "code",
   "execution_count": null,
   "metadata": {},
   "outputs": [],
   "source": [
    "# # 데이터에서 값 추출\n",
    "# c1 = '<span class=\"redFont\" title=\"예상치보다 낮습니다\">'\n",
    "# c2 = '<span class=\"blackFont\" title=\"기대치에 따라\">'\n",
    "# c3 = '<span class=\"greenFont\" title=\"예상치보다 높습니다\">'\n",
    "\n",
    "# if data.find(c1) != -1:\n",
    "#     number_start_index = data.find(c1) + len(c1)\n",
    "#     number_end_index = data.find(\"</span>\", number_start_index)\n",
    "#     number = data[number_start_index:number_end_index].strip() \n",
    "# elif data.find(c2) != -1:\n",
    "#     number_start_index = data.find(c2) + len(c2)\n",
    "#     number_end_index = data.find(\"</span>\", number_start_index)\n",
    "#     number = data[number_start_index:number_end_index].strip()  \n",
    "# elif data.find(c3) != -1:\n",
    "#     number_start_index = data.find(c3) + len(c3)\n",
    "#     number_end_index = data.find(\"</span>\", number_start_index)\n",
    "#     number = data[number_start_index:number_end_index].strip()  \n",
    "\n",
    "# print(number)"
   ]
  },
  {
   "cell_type": "code",
   "execution_count": null,
   "metadata": {},
   "outputs": [],
   "source": []
  }
 ],
 "metadata": {
  "kernelspec": {
   "display_name": "Python 3",
   "language": "python",
   "name": "python3"
  },
  "language_info": {
   "codemirror_mode": {
    "name": "ipython",
    "version": 3
   },
   "file_extension": ".py",
   "mimetype": "text/x-python",
   "name": "python",
   "nbconvert_exporter": "python",
   "pygments_lexer": "ipython3",
   "version": "3.10.9"
  },
  "orig_nbformat": 4
 },
 "nbformat": 4,
 "nbformat_minor": 2
}
